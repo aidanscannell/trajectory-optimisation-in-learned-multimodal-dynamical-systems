{
 "cells": [
  {
   "cell_type": "code",
   "execution_count": null,
   "metadata": {
    "autoscroll": false,
    "collapsed": false,
    "ein.hycell": false,
    "ein.tags": "worksheet-0",
    "jupyter": {
     "outputs_hidden": false
    },
    "slideshow": {
     "slide_type": "-"
    }
   },
   "outputs": [],
   "source": []
  },
  {
   "cell_type": "markdown",
   "metadata": {
    "ein.tags": "worksheet-0",
    "slideshow": {
     "slide_type": "-"
    }
   },
   "source": [
    "**GP prior on latent dynamics $f$**\n",
    "\n",
    "\\begin{equation*}\n",
    "\tp(\\mathbf{F} | \\mathbf{X}) = \\displaystyle\\prod^2_{k=1} \\mathcal{N}(f_k|\\mathbf{0}, K_k({\\mathbf{X},\\mathbf{X}}))\n",
    "\\end{equation*}\n",
    "\n",
    "**GP prior on separation manifold $h$**\n",
    "\\begin{equation*}\n",
    "\tp(h | \\mathbf{X}) \\sim \\mathcal{N}(h | \\mu_h(\\mathbf{X}), k_h(\\mathbf{X}, \\mathbf{X}))\n",
    "\\end{equation*}\n",
    "\n",
    "**Likelihood**\n",
    "\\begin{equation*}\n",
    "\tp(\\mathbf{Y} | \\mathbf{F}, \\pmb{\\alpha}) = {\\displaystyle \\prod_{n=1}^{N}} \\mathcal{N}\t(\\mathbf{y}_n|f_1, \\epsilon_1)^{\\alpha_n} \\mathcal{N}\t(\\mathbf{y}_n|f_2, \\epsilon_2)^{1 - \\alpha_n}\n",
    "\\end{equation*}"
   ]
  },
  {
   "cell_type": "markdown",
   "metadata": {
    "ein.tags": "worksheet-0",
    "slideshow": {
     "slide_type": "-"
    }
   },
   "source": [
    "\\begin{equation}\n",
    "p(\\mathbf{Y}, \\mathbf{F}, \\pmb{\\alpha}, h, \\mathbf{X}) = p(\\mathbf{Y} | \\mathbf{F}, \\pmb{\\alpha}) p(g | \\mathbf{X}) p(\\pmb{\\alpha} | h) p(h | \\mathbf{X}) p(\\mathbf{X}) .\n",
    "\\end{equation}"
   ]
  },
  {
   "cell_type": "markdown",
   "metadata": {
    "ein.tags": "worksheet-0",
    "slideshow": {
     "slide_type": "-"
    }
   },
   "source": [
    "## What are we actually interested in?\n",
    "\n",
    "For a previously unseen input $\\mathbf{X}\\_*$ we want to make probabilistic predictions of the output $\\mathbf{Y}\\_*$ i.e. we want to obtain $p(\\mathbf{Y}\\_* | \\mathbf{X}\\_*)$.\n",
    "\n",
    "\n",
    "**Learning**\n",
    "1. Hyper-parameters $\\pmb{\\Theta}\\_f$ of dynamics GPs,\n",
    "2. Hyper-parameters $\\pmb{\\Theta}\\_h$ of separation manifold GP $h$\n",
    "3. Assignments $\\pmb\\alpha$ - $p(\\pmb\\alpha | \\mathbf{Y}, \\mathbf{X})$.\n",
    "\n",
    "**Predicting**\n",
    "1. Assignment $\\pmb\\alpha\\_*$ for previously unseen input $(\\mathbf{s}\\_{t-1}, \\mathbf{a}\\_{t-1})\\_*$,\n",
    "2. Future state $\\mathbf{s}\\_t$.\n"
   ]
  },
  {
   "cell_type": "code",
   "execution_count": null,
   "metadata": {
    "autoscroll": false,
    "collapsed": false,
    "ein.hycell": false,
    "ein.tags": "worksheet-0",
    "jupyter": {
     "outputs_hidden": false
    },
    "slideshow": {
     "slide_type": "-"
    }
   },
   "outputs": [],
   "source": []
  }
 ],
 "metadata": {
  "kernelspec": {
   "display_name": "Python 3",
   "language": "python",
   "name": "python3"
  },
  "language_info": {
   "codemirror_mode": {
    "name": "ipython",
    "version": 3
   },
   "file_extension": ".py",
   "mimetype": "text/x-python",
   "name": "python",
   "nbconvert_exporter": "python",
   "pygments_lexer": "ipython3",
   "version": "3.7.4"
  },
  "name": "bimodal-noise-var-gp.ipynb"
 },
 "nbformat": 4,
 "nbformat_minor": 4
}
